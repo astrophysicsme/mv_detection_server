{
  "cells": [
    {
      "cell_type": "markdown",
      "metadata": {
        "colab_type": "text",
        "id": "view-in-github"
      },
      "source": [
        "<a href=\"https://colab.research.google.com/github/loolzaaa/faster-rcnn-pytorch/blob/master/Faster_RCNN.ipynb\" target=\"_parent\"><img src=\"https://colab.research.google.com/assets/colab-badge.svg\" alt=\"Open In Colab\"/></a>"
      ]
    },
    {
      "cell_type": "code",
      "execution_count": null,
      "metadata": {
        "colab": {},
        "colab_type": "code",
        "id": "uPmN4bI0XbW0",
        "vscode": {
          "languageId": "python"
        }
      },
      "outputs": [],
      "source": [
        "%pip uninstall torch torchvision -y\n",
        "%pip install colorama easydict pyyaml matplotlib numpy\n",
        "%pip install torch==1.4.0+cu100 torchvision==0.5.0+cu100 -f https://download.pytorch.org/whl/torch_stable.html"
      ]
    },
    {
      "cell_type": "code",
      "execution_count": null,
      "metadata": {
        "colab": {},
        "colab_type": "code",
        "id": "J1m4grxYXi9X",
        "vscode": {
          "languageId": "python"
        }
      },
      "outputs": [],
      "source": [
        "%git clone https://github.com/loolzaaa/faster-rcnn-pytorch.git"
      ]
    },
    {
      "cell_type": "code",
      "execution_count": null,
      "metadata": {
        "colab": {},
        "colab_type": "code",
        "id": "P566Rc2_YspS",
        "vscode": {
          "languageId": "python"
        }
      },
      "outputs": [],
      "source": [
        "%cd faster-rcnn-pytorch\n",
        "%mkdir data\n",
        "%mkdir data/pretrained_model\n",
        "%cd lib\n",
        "\n",
        "%python setup.py develop\n",
        "\n",
        "%cd .."
      ]
    },
    {
      "cell_type": "code",
      "execution_count": null,
      "metadata": {
        "colab": {},
        "colab_type": "code",
        "id": "msNKshP8al8Z",
        "vscode": {
          "languageId": "python"
        }
      },
      "outputs": [],
      "source": [
        "import lib # Add some path to sys\n",
        "import torch # You need to import this first\n",
        "import _C\n",
        "\n",
        "print(_C)"
      ]
    },
    {
      "cell_type": "code",
      "execution_count": null,
      "metadata": {
        "colab": {},
        "colab_type": "code",
        "id": "xAjbWOjYiNiM",
        "vscode": {
          "languageId": "python"
        }
      },
      "outputs": [],
      "source": [
        "%wget -O data/voc2007.tar http://host.robots.ox.ac.uk/pascal/VOC/voc2007/VOCtrainval_06-Nov-2007.tar\n",
        "%tar -xf data/voc2007.tar -C data/\n",
        "\n",
        "%wget -O data/pretrained_model/resnet50.pth \"https://drive.google.com/uc?export=download&id=1Wv-j1qtRsYWcuCVakuaN0kXV6ZcQ3yzK\""
      ]
    },
    {
      "cell_type": "code",
      "execution_count": null,
      "metadata": {
        "colab": {},
        "colab_type": "code",
        "id": "LJnA6W2WXz8O",
        "vscode": {
          "languageId": "python"
        }
      },
      "outputs": [],
      "source": [
        "# Before run, check script/train.py file.\n",
        "# You need to change pprint.pp -> pprint.pprint,\n",
        "# because pp() function available in python 3.8+\n",
        "%python run.py train -n resnet50 --cuda"
      ]
    },
    {
      "cell_type": "code",
      "execution_count": null,
      "metadata": {
        "colab": {},
        "colab_type": "code",
        "id": "2vbgW3-jsMpS",
        "vscode": {
          "languageId": "python"
        }
      },
      "outputs": [],
      "source": []
    }
  ],
  "metadata": {
    "accelerator": "GPU",
    "colab": {
      "authorship_tag": "ABX9TyPXgpgM5DQsWbhViXHD1R9W",
      "collapsed_sections": [],
      "include_colab_link": true,
      "name": "Faster_RCNN.ipynb",
      "provenance": [],
      "toc_visible": true
    },
    "kernelspec": {
      "display_name": "Python 3",
      "name": "python3"
    }
  },
  "nbformat": 4,
  "nbformat_minor": 0
}
